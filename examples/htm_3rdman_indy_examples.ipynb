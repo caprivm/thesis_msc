{
 "metadata": {
  "language_info": {
   "codemirror_mode": {
    "name": "ipython",
    "version": 3
   },
   "file_extension": ".py",
   "mimetype": "text/x-python",
   "name": "python",
   "nbconvert_exporter": "python",
   "pygments_lexer": "ipython3",
   "version": "3.7.9-final"
  },
  "orig_nbformat": 2,
  "kernelspec": {
   "name": "python37964bita0277b408a0544aa93096ac794eda4ce",
   "display_name": "Python 3.7.9 64-bit"
  }
 },
 "nbformat": 4,
 "nbformat_minor": 2,
 "cells": [
  {
   "cell_type": "code",
   "execution_count": 3,
   "metadata": {},
   "outputs": [
    {
     "output_type": "stream",
     "name": "stdout",
     "text": [
      "V: 0 | 11111111 00000000 00000000 00000000 00000000 00000000 00000000 00000000 00000000 00000000 Active\n1.00 | 00000000 00000000 00000000 00000000 00000000 00000000 00000000 00000000 00000000 00000000 Predicted\nV: 1 | 00000000 11111111 00000000 00000000 00000000 00000000 00000000 00000000 00000000 00000000 Active\n1.00 | 00000000 00000000 00000000 00000000 00000000 00000000 00000000 00000000 00000000 00000000 Predicted\nV: 2 | 00000000 00000000 11111111 00000000 00000000 00000000 00000000 00000000 00000000 00000000 Active\n1.00 | 00000000 00000000 00000000 00000000 00000000 00000000 00000000 00000000 00000000 00000000 Predicted\nV: 3 | 00000000 00000000 00000000 11111111 00000000 00000000 00000000 00000000 00000000 00000000 Active\n1.00 | 00000000 00000000 00000000 00000000 00000000 00000000 00000000 00000000 00000000 00000000 Predicted\nV: 4 | 00000000 00000000 00000000 00000000 11111111 00000000 00000000 00000000 00000000 00000000 Active\n1.00 | 00000000 00000000 00000000 00000000 00000000 00000000 00000000 00000000 00000000 00000000 Predicted\nV: 5 | 00000000 00000000 00000000 00000000 00000000 11111111 00000000 00000000 00000000 00000000 Active\n1.00 | 00000000 00000000 00000000 00000000 00000000 00000000 00000000 00000000 00000000 00000000 Predicted\nV: 6 | 00000000 00000000 00000000 00000000 00000000 00000000 11111111 00000000 00000000 00000000 Active\n1.00 | 00000000 00000000 00000000 00000000 00000000 00000000 00000000 00000000 00000000 00000000 Predicted\nV: 7 | 00000000 00000000 00000000 00000000 00000000 00000000 00000000 11111111 00000000 00000000 Active\n1.00 | 00000000 00000000 00000000 00000000 00000000 00000000 00000000 00000000 00000000 00000000 Predicted\nV: 8 | 00000000 00000000 00000000 00000000 00000000 00000000 00000000 00000000 11111111 00000000 Active\n1.00 | 00000000 00000000 00000000 00000000 00000000 00000000 00000000 00000000 00000000 00000000 Predicted\nV: 9 | 00000000 00000000 00000000 00000000 00000000 00000000 00000000 00000000 00000000 11111111 Active\n1.00 | 00000000 00000000 00000000 00000000 00000000 00000000 00000000 00000000 00000000 00000000 Predicted\n"
     ]
    }
   ],
   "source": [
    "import numpy as np\n",
    "from htm.bindings.sdr import SDR\n",
    "from htm.algorithms import TemporalMemory as TM\n",
    "\n",
    "def formatSDR(sdr):\n",
    "    result = ''\n",
    "    for i in range(sdr.size):\n",
    "        if i > 0 and i % 8 == 0:\n",
    "            result += ' '\n",
    "        result += str(sdr.dense.flatten()[i])\n",
    "    return result\n",
    "\n",
    "arraySize = 80\n",
    "cycleArray = np.arange(0, 10, 1)\n",
    "inputSDR = SDR( arraySize )\n",
    "\n",
    "tm = TM(columnDimensions    = (inputSDR.size,),\n",
    "        cellsPerColumn      = 1,\n",
    "        minThreshold        = 4,\n",
    "        activationThreshold = 8,\n",
    "        initialPermanence   = 0.5\n",
    "        )\n",
    "\n",
    "for cycle in range(2):\n",
    "    for sensorValue in cycleArray:\n",
    "        sensorValueBits = inputSDR.dense\n",
    "        sensorValueBits = np.zeros(arraySize)\n",
    "        sensorValueBits[sensorValue * 8 : sensorValue * 8 + 8] = 1\n",
    "        inputSDR.dense  = sensorValueBits\n",
    "\n",
    "        tm.compute(inputSDR, learn = True)\n",
    "        print(format(sensorValue, '>2') + '/' + format(cycle, '1d') + ' |', formatSDR(tm.getActiveCells()), 'Active')\n",
    "        print('V:' + format(sensorValue, '>2') + ' |', formatSDR(tm.getActiveCells()), 'Active')\n",
    "\n",
    "        tm.activateDendrites(True)\n",
    "        print(format(tm.anomaly, '.2f') + ' |', formatSDR(tm.getPredictiveCells()), 'Predicted')"
   ]
  }
 ]
}